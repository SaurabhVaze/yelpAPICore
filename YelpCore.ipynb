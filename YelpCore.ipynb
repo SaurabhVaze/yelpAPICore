{
 "cells": [
  {
   "cell_type": "code",
   "execution_count": 1,
   "id": "aa427792",
   "metadata": {},
   "outputs": [],
   "source": [
    "# Standard Imports\n",
    "import numpy as np\n",
    "import pandas as pd\n",
    "import matplotlib.pyplot as plt\n",
    "import seaborn as sns\n",
    "# Additional Imports\n",
    "import os, json, math, time\n",
    "from yelpapi import YelpAPI\n",
    "from tqdm.notebook import tqdm_notebook\n",
    "\n"
   ]
  },
  {
   "cell_type": "code",
   "execution_count": 2,
   "id": "dc09f4f5",
   "metadata": {},
   "outputs": [],
   "source": [
    "# Load API Credentials\n",
    "with open('/Users/svaze/.secret/yelp_api.json') as f:   #use your path here!\n",
    "    login = json.load(f)\n",
    "# Instantiate YelpAPI Variable\n",
    "yelp_api = YelpAPI(login['api-key'], timeout_s=5.0)\n",
    "\n",
    "\n"
   ]
  },
  {
   "cell_type": "code",
   "execution_count": 3,
   "id": "bfcad8fd",
   "metadata": {},
   "outputs": [],
   "source": [
    "# set our API call parameters and filename before the first call\n",
    "LOCATION = 'San Francisco, CA,94133'\n",
    "TERM = 'Italian'\n",
    "\n",
    "\n"
   ]
  },
  {
   "cell_type": "code",
   "execution_count": 4,
   "id": "019faeea",
   "metadata": {},
   "outputs": [
    {
     "data": {
      "text/plain": [
       "'Data/results_in_progress_Italian.json'"
      ]
     },
     "execution_count": 4,
     "metadata": {},
     "output_type": "execute_result"
    }
   ],
   "source": [
    "# Specifying JSON_FILE filename (can include a folder)\n",
    "# include the search terms in the filename\n",
    "JSON_FILE = f\"Data/results_in_progress_Italian.json\"\n",
    "JSON_FILE\n",
    "\n",
    "\n"
   ]
  },
  {
   "cell_type": "code",
   "execution_count": 5,
   "id": "d51217bb",
   "metadata": {},
   "outputs": [
    {
     "name": "stdout",
     "output_type": "stream",
     "text": [
      "[i] Data/results_in_progress_Italian.json already exists.\n"
     ]
    }
   ],
   "source": [
    "## Check if JSON_FILE exists\n",
    "file_exists = os.path.isfile(JSON_FILE)\n",
    "## If it does not exist: \n",
    "if file_exists == False:\n",
    "    \n",
    "    ## CREATE ANY NEEDED FOLDERS\n",
    "    # Get the Folder Name only\n",
    "    folder = os.path.dirname(JSON_FILE)\n",
    "    ## If JSON_FILE included a folder:\n",
    "    if len(folder)>0:\n",
    "        # create the folder\n",
    "        os.makedirs(folder,exist_ok=True)\n",
    "        \n",
    "        \n",
    "    ## INFORM USER AND SAVE EMPTY LIST\n",
    "    print(f\"[i] {JSON_FILE} not found. Saving empty list to file.\")\n",
    "    \n",
    "    \n",
    "    ## save the first page of results\n",
    "    with open(JSON_FILE,'w') as f:\n",
    "        json.dump([],f)  \n",
    "## If it exists, inform user\n",
    "else:\n",
    "    print(f\"[i] {JSON_FILE} already exists.\")\n",
    "\n"
   ]
  },
  {
   "cell_type": "code",
   "execution_count": 6,
   "id": "2358ca14",
   "metadata": {},
   "outputs": [
    {
     "name": "stdout",
     "output_type": "stream",
     "text": [
      "- 0 previous results found.\n"
     ]
    }
   ],
   "source": [
    "## Load previous results and use len of results for offset\n",
    "with open(JSON_FILE,'r') as f:\n",
    "    previous_results = json.load(f)\n",
    "    \n",
    "## set offset based on previous results\n",
    "n_results = len(previous_results)\n",
    "print(f'- {n_results} previous results found.')\n",
    "\n"
   ]
  },
  {
   "cell_type": "code",
   "execution_count": 7,
   "id": "0cd1c8da",
   "metadata": {},
   "outputs": [
    {
     "data": {
      "text/plain": [
       "dict_keys(['businesses', 'total', 'region'])"
      ]
     },
     "execution_count": 7,
     "metadata": {},
     "output_type": "execute_result"
    }
   ],
   "source": [
    "# use our yelp_api variable's search_query method to perform our API call\n",
    "results = yelp_api.search_query(location=LOCATION,\n",
    "                                term=TERM,\n",
    "                               offset=n_results)\n",
    "results.keys()\n",
    "\n"
   ]
  },
  {
   "cell_type": "code",
   "execution_count": 8,
   "id": "7f598ec8",
   "metadata": {},
   "outputs": [
    {
     "data": {
      "text/plain": [
       "457"
      ]
     },
     "execution_count": 8,
     "metadata": {},
     "output_type": "execute_result"
    }
   ],
   "source": [
    "## How many results total?\n",
    "total_results = results['total']\n",
    "total_results\n",
    "\n"
   ]
  },
  {
   "cell_type": "code",
   "execution_count": 9,
   "id": "0217b3c2",
   "metadata": {},
   "outputs": [
    {
     "data": {
      "text/plain": [
       "20"
      ]
     },
     "execution_count": 9,
     "metadata": {},
     "output_type": "execute_result"
    }
   ],
   "source": [
    "## How many did we get the details for?\n",
    "results_per_page = len(results['businesses'])\n",
    "results_per_page\n",
    "\n"
   ]
  },
  {
   "cell_type": "code",
   "execution_count": 10,
   "id": "9505ecfa",
   "metadata": {},
   "outputs": [
    {
     "data": {
      "text/plain": [
       "23"
      ]
     },
     "execution_count": 10,
     "metadata": {},
     "output_type": "execute_result"
    }
   ],
   "source": [
    "# Import additional packages for controlling our loop\n",
    "import time, math\n",
    "# Use math.ceil to round up for the total number of pages of results.\n",
    "n_pages = math.ceil((results['total']-n_results)/ results_per_page)\n",
    "n_pages\n",
    "\n"
   ]
  },
  {
   "cell_type": "code",
   "execution_count": 11,
   "id": "ded904b4",
   "metadata": {},
   "outputs": [],
   "source": [
    "# join new results with old list with extend and save to file\n",
    "previous_results.extend(results['businesses'])  \n",
    "with open(JSON_FILE,'w') as f:\n",
    "     json.dump(previous_results,f)\n"
   ]
  },
  {
   "cell_type": "code",
   "execution_count": 13,
   "id": "9eaaa858",
   "metadata": {},
   "outputs": [
    {
     "data": {
      "application/vnd.jupyter.widget-view+json": {
       "model_id": "a83126e9870e4c329d2bb6fde72a9df5",
       "version_major": 2,
       "version_minor": 0
      },
      "text/plain": [
       "  0%|          | 0/23 [00:00<?, ?it/s]"
      ]
     },
     "metadata": {},
     "output_type": "display_data"
    }
   ],
   "source": [
    "import time\n",
    "for i in tqdm_notebook(range(n_pages)):\n",
    "    # adds 200 ms pause\n",
    "    time.sleep(.2) \n"
   ]
  },
  {
   "cell_type": "code",
   "execution_count": 14,
   "id": "d8208626",
   "metadata": {},
   "outputs": [
    {
     "data": {
      "application/vnd.jupyter.widget-view+json": {
       "model_id": "e116191d85d543b38ab0ddb1d4a8e680",
       "version_major": 2,
       "version_minor": 0
      },
      "text/plain": [
       "  0%|          | 0/23 [00:00<?, ?it/s]"
      ]
     },
     "metadata": {},
     "output_type": "display_data"
    }
   ],
   "source": [
    "for i in tqdm_notebook( range(1,n_pages+1)):\n",
    "    time.sleep(.2)\n",
    "    ## Read in results in progress file and check the length\n",
    "    with open(JSON_FILE, 'r') as f:\n",
    "        previous_results = json.load(f)\n",
    "    ## save number of results for to use as offset\n",
    "    n_results = len(previous_results)\n",
    "    ## use n_results as the OFFSET \n",
    "    results = yelp_api.search_query(location=LOCATION,\n",
    "                                    term=TERM, \n",
    "                                    offset=n_results)\n",
    "    \n",
    "    ## append new results and save to file\n",
    "    previous_results.extend(results['businesses'])\n",
    "    \n",
    "#     display(previous_results)\n",
    "    with open(JSON_FILE,'w') as f:\n",
    "        json.dump(previous_results,f)\n",
    "\n"
   ]
  },
  {
   "cell_type": "code",
   "execution_count": 15,
   "id": "eecf39e0",
   "metadata": {},
   "outputs": [
    {
     "data": {
      "text/html": [
       "<div>\n",
       "<style scoped>\n",
       "    .dataframe tbody tr th:only-of-type {\n",
       "        vertical-align: middle;\n",
       "    }\n",
       "\n",
       "    .dataframe tbody tr th {\n",
       "        vertical-align: top;\n",
       "    }\n",
       "\n",
       "    .dataframe thead th {\n",
       "        text-align: right;\n",
       "    }\n",
       "</style>\n",
       "<table border=\"1\" class=\"dataframe\">\n",
       "  <thead>\n",
       "    <tr style=\"text-align: right;\">\n",
       "      <th></th>\n",
       "      <th>id</th>\n",
       "      <th>alias</th>\n",
       "      <th>name</th>\n",
       "      <th>image_url</th>\n",
       "      <th>is_closed</th>\n",
       "      <th>url</th>\n",
       "      <th>review_count</th>\n",
       "      <th>categories</th>\n",
       "      <th>rating</th>\n",
       "      <th>coordinates</th>\n",
       "      <th>transactions</th>\n",
       "      <th>price</th>\n",
       "      <th>location</th>\n",
       "      <th>phone</th>\n",
       "      <th>display_phone</th>\n",
       "      <th>distance</th>\n",
       "    </tr>\n",
       "  </thead>\n",
       "  <tbody>\n",
       "    <tr>\n",
       "      <th>0</th>\n",
       "      <td>8dUaybEPHsZMgr1iKgqgMQ</td>\n",
       "      <td>sotto-mare-san-francisco-4</td>\n",
       "      <td>Sotto Mare</td>\n",
       "      <td>https://s3-media3.fl.yelpcdn.com/bphoto/o3hIcG...</td>\n",
       "      <td>False</td>\n",
       "      <td>https://www.yelp.com/biz/sotto-mare-san-franci...</td>\n",
       "      <td>4522</td>\n",
       "      <td>[{'alias': 'seafood', 'title': 'Seafood'}, {'a...</td>\n",
       "      <td>4.5</td>\n",
       "      <td>{'latitude': 37.79979, 'longitude': -122.40834}</td>\n",
       "      <td>[delivery, pickup]</td>\n",
       "      <td>$$</td>\n",
       "      <td>{'address1': '552 Green St', 'address2': '', '...</td>\n",
       "      <td>+14153983181</td>\n",
       "      <td>(415) 398-3181</td>\n",
       "      <td>421.499100</td>\n",
       "    </tr>\n",
       "    <tr>\n",
       "      <th>1</th>\n",
       "      <td>K9XVDlPNhrrSVEJN7uWqJQ</td>\n",
       "      <td>the-italian-homemade-company-san-francisco-8</td>\n",
       "      <td>The Italian Homemade Company</td>\n",
       "      <td>https://s3-media3.fl.yelpcdn.com/bphoto/Xl1A2w...</td>\n",
       "      <td>False</td>\n",
       "      <td>https://www.yelp.com/biz/the-italian-homemade-...</td>\n",
       "      <td>1759</td>\n",
       "      <td>[{'alias': 'italian', 'title': 'Italian'}, {'a...</td>\n",
       "      <td>4.5</td>\n",
       "      <td>{'latitude': 37.801752, 'longitude': -122.411851}</td>\n",
       "      <td>[delivery, pickup]</td>\n",
       "      <td>$$</td>\n",
       "      <td>{'address1': '716 Columbus Ave', 'address2': '...</td>\n",
       "      <td>+14157128874</td>\n",
       "      <td>(415) 712-8874</td>\n",
       "      <td>218.158166</td>\n",
       "    </tr>\n",
       "    <tr>\n",
       "      <th>2</th>\n",
       "      <td>I8T8aoAsFQYwQiRvLBayFA</td>\n",
       "      <td>il-casaro-pizzeria-and-mozzarella-bar-north-be...</td>\n",
       "      <td>Il Casaro Pizzeria &amp; Mozzarella Bar - North Beach</td>\n",
       "      <td>https://s3-media4.fl.yelpcdn.com/bphoto/ef3tF8...</td>\n",
       "      <td>False</td>\n",
       "      <td>https://www.yelp.com/biz/il-casaro-pizzeria-an...</td>\n",
       "      <td>1517</td>\n",
       "      <td>[{'alias': 'italian', 'title': 'Italian'}, {'a...</td>\n",
       "      <td>4.5</td>\n",
       "      <td>{'latitude': 37.79852, 'longitude': -122.40739}</td>\n",
       "      <td>[restaurant_reservation, delivery, pickup]</td>\n",
       "      <td>$$</td>\n",
       "      <td>{'address1': '348 Columbus Ave', 'address2': '...</td>\n",
       "      <td>+14156779455</td>\n",
       "      <td>(415) 677-9455</td>\n",
       "      <td>580.994463</td>\n",
       "    </tr>\n",
       "    <tr>\n",
       "      <th>3</th>\n",
       "      <td>o43B4DnnQbvkdDK6AVafQg</td>\n",
       "      <td>piccolo-forno-san-francisco</td>\n",
       "      <td>Piccolo Forno</td>\n",
       "      <td>https://s3-media2.fl.yelpcdn.com/bphoto/f5cIsI...</td>\n",
       "      <td>False</td>\n",
       "      <td>https://www.yelp.com/biz/piccolo-forno-san-fra...</td>\n",
       "      <td>792</td>\n",
       "      <td>[{'alias': 'pizza', 'title': 'Pizza'}, {'alias...</td>\n",
       "      <td>4.5</td>\n",
       "      <td>{'latitude': 37.8013699308642, 'longitude': -1...</td>\n",
       "      <td>[pickup, delivery]</td>\n",
       "      <td>$$</td>\n",
       "      <td>{'address1': '725 Columbus Ave', 'address2': '...</td>\n",
       "      <td>+14157570087</td>\n",
       "      <td>(415) 757-0087</td>\n",
       "      <td>258.085989</td>\n",
       "    </tr>\n",
       "    <tr>\n",
       "      <th>4</th>\n",
       "      <td>bC3FfFqfaQu7gZznjkmt9Q</td>\n",
       "      <td>mona-lisa-restaurant-san-francisco</td>\n",
       "      <td>Mona Lisa Restaurant</td>\n",
       "      <td>https://s3-media2.fl.yelpcdn.com/bphoto/LLD2tS...</td>\n",
       "      <td>False</td>\n",
       "      <td>https://www.yelp.com/biz/mona-lisa-restaurant-...</td>\n",
       "      <td>2107</td>\n",
       "      <td>[{'alias': 'italian', 'title': 'Italian'}]</td>\n",
       "      <td>4.0</td>\n",
       "      <td>{'latitude': 37.7983902, 'longitude': -122.407...</td>\n",
       "      <td>[restaurant_reservation, pickup, delivery]</td>\n",
       "      <td>$$</td>\n",
       "      <td>{'address1': '353 Columbus Ave', 'address2': '...</td>\n",
       "      <td>+14159894917</td>\n",
       "      <td>(415) 989-4917</td>\n",
       "      <td>576.345582</td>\n",
       "    </tr>\n",
       "  </tbody>\n",
       "</table>\n",
       "</div>"
      ],
      "text/plain": [
       "                       id                                              alias  \\\n",
       "0  8dUaybEPHsZMgr1iKgqgMQ                         sotto-mare-san-francisco-4   \n",
       "1  K9XVDlPNhrrSVEJN7uWqJQ       the-italian-homemade-company-san-francisco-8   \n",
       "2  I8T8aoAsFQYwQiRvLBayFA  il-casaro-pizzeria-and-mozzarella-bar-north-be...   \n",
       "3  o43B4DnnQbvkdDK6AVafQg                        piccolo-forno-san-francisco   \n",
       "4  bC3FfFqfaQu7gZznjkmt9Q                 mona-lisa-restaurant-san-francisco   \n",
       "\n",
       "                                                name  \\\n",
       "0                                         Sotto Mare   \n",
       "1                       The Italian Homemade Company   \n",
       "2  Il Casaro Pizzeria & Mozzarella Bar - North Beach   \n",
       "3                                      Piccolo Forno   \n",
       "4                               Mona Lisa Restaurant   \n",
       "\n",
       "                                           image_url  is_closed  \\\n",
       "0  https://s3-media3.fl.yelpcdn.com/bphoto/o3hIcG...      False   \n",
       "1  https://s3-media3.fl.yelpcdn.com/bphoto/Xl1A2w...      False   \n",
       "2  https://s3-media4.fl.yelpcdn.com/bphoto/ef3tF8...      False   \n",
       "3  https://s3-media2.fl.yelpcdn.com/bphoto/f5cIsI...      False   \n",
       "4  https://s3-media2.fl.yelpcdn.com/bphoto/LLD2tS...      False   \n",
       "\n",
       "                                                 url  review_count  \\\n",
       "0  https://www.yelp.com/biz/sotto-mare-san-franci...          4522   \n",
       "1  https://www.yelp.com/biz/the-italian-homemade-...          1759   \n",
       "2  https://www.yelp.com/biz/il-casaro-pizzeria-an...          1517   \n",
       "3  https://www.yelp.com/biz/piccolo-forno-san-fra...           792   \n",
       "4  https://www.yelp.com/biz/mona-lisa-restaurant-...          2107   \n",
       "\n",
       "                                          categories  rating  \\\n",
       "0  [{'alias': 'seafood', 'title': 'Seafood'}, {'a...     4.5   \n",
       "1  [{'alias': 'italian', 'title': 'Italian'}, {'a...     4.5   \n",
       "2  [{'alias': 'italian', 'title': 'Italian'}, {'a...     4.5   \n",
       "3  [{'alias': 'pizza', 'title': 'Pizza'}, {'alias...     4.5   \n",
       "4         [{'alias': 'italian', 'title': 'Italian'}]     4.0   \n",
       "\n",
       "                                         coordinates  \\\n",
       "0    {'latitude': 37.79979, 'longitude': -122.40834}   \n",
       "1  {'latitude': 37.801752, 'longitude': -122.411851}   \n",
       "2    {'latitude': 37.79852, 'longitude': -122.40739}   \n",
       "3  {'latitude': 37.8013699308642, 'longitude': -1...   \n",
       "4  {'latitude': 37.7983902, 'longitude': -122.407...   \n",
       "\n",
       "                                 transactions price  \\\n",
       "0                          [delivery, pickup]    $$   \n",
       "1                          [delivery, pickup]    $$   \n",
       "2  [restaurant_reservation, delivery, pickup]    $$   \n",
       "3                          [pickup, delivery]    $$   \n",
       "4  [restaurant_reservation, pickup, delivery]    $$   \n",
       "\n",
       "                                            location         phone  \\\n",
       "0  {'address1': '552 Green St', 'address2': '', '...  +14153983181   \n",
       "1  {'address1': '716 Columbus Ave', 'address2': '...  +14157128874   \n",
       "2  {'address1': '348 Columbus Ave', 'address2': '...  +14156779455   \n",
       "3  {'address1': '725 Columbus Ave', 'address2': '...  +14157570087   \n",
       "4  {'address1': '353 Columbus Ave', 'address2': '...  +14159894917   \n",
       "\n",
       "    display_phone    distance  \n",
       "0  (415) 398-3181  421.499100  \n",
       "1  (415) 712-8874  218.158166  \n",
       "2  (415) 677-9455  580.994463  \n",
       "3  (415) 757-0087  258.085989  \n",
       "4  (415) 989-4917  576.345582  "
      ]
     },
     "metadata": {},
     "output_type": "display_data"
    },
    {
     "data": {
      "text/html": [
       "<div>\n",
       "<style scoped>\n",
       "    .dataframe tbody tr th:only-of-type {\n",
       "        vertical-align: middle;\n",
       "    }\n",
       "\n",
       "    .dataframe tbody tr th {\n",
       "        vertical-align: top;\n",
       "    }\n",
       "\n",
       "    .dataframe thead th {\n",
       "        text-align: right;\n",
       "    }\n",
       "</style>\n",
       "<table border=\"1\" class=\"dataframe\">\n",
       "  <thead>\n",
       "    <tr style=\"text-align: right;\">\n",
       "      <th></th>\n",
       "      <th>id</th>\n",
       "      <th>alias</th>\n",
       "      <th>name</th>\n",
       "      <th>image_url</th>\n",
       "      <th>is_closed</th>\n",
       "      <th>url</th>\n",
       "      <th>review_count</th>\n",
       "      <th>categories</th>\n",
       "      <th>rating</th>\n",
       "      <th>coordinates</th>\n",
       "      <th>transactions</th>\n",
       "      <th>price</th>\n",
       "      <th>location</th>\n",
       "      <th>phone</th>\n",
       "      <th>display_phone</th>\n",
       "      <th>distance</th>\n",
       "    </tr>\n",
       "  </thead>\n",
       "  <tbody>\n",
       "    <tr>\n",
       "      <th>452</th>\n",
       "      <td>TyYg1zXxGgI8X_XOfpclHw</td>\n",
       "      <td>papa-johns-pizza-san-francisco-2</td>\n",
       "      <td>Papa Johns Pizza</td>\n",
       "      <td>https://s3-media3.fl.yelpcdn.com/bphoto/gq2_Of...</td>\n",
       "      <td>False</td>\n",
       "      <td>https://www.yelp.com/biz/papa-johns-pizza-san-...</td>\n",
       "      <td>137</td>\n",
       "      <td>[{'alias': 'pizza', 'title': 'Pizza'}, {'alias...</td>\n",
       "      <td>2.5</td>\n",
       "      <td>{'latitude': 37.78807, 'longitude': -122.416298}</td>\n",
       "      <td>[delivery, pickup]</td>\n",
       "      <td>$</td>\n",
       "      <td>{'address1': '969 Sutter St.', 'address2': '',...</td>\n",
       "      <td>+14154407272</td>\n",
       "      <td>(415) 440-7272</td>\n",
       "      <td>1759.396186</td>\n",
       "    </tr>\n",
       "    <tr>\n",
       "      <th>453</th>\n",
       "      <td>xd4HRRVilNNB45Gm974XiA</td>\n",
       "      <td>dominos-pizza-san-francisco-5</td>\n",
       "      <td>Domino's Pizza</td>\n",
       "      <td>https://s3-media1.fl.yelpcdn.com/bphoto/CCGa6D...</td>\n",
       "      <td>False</td>\n",
       "      <td>https://www.yelp.com/biz/dominos-pizza-san-fra...</td>\n",
       "      <td>399</td>\n",
       "      <td>[{'alias': 'pizza', 'title': 'Pizza'}, {'alias...</td>\n",
       "      <td>1.5</td>\n",
       "      <td>{'latitude': 37.7862196415663, 'longitude': -1...</td>\n",
       "      <td>[]</td>\n",
       "      <td>$</td>\n",
       "      <td>{'address1': '876 Geary St', 'address2': '', '...</td>\n",
       "      <td>+14157760400</td>\n",
       "      <td>(415) 776-0400</td>\n",
       "      <td>1990.991551</td>\n",
       "    </tr>\n",
       "    <tr>\n",
       "      <th>454</th>\n",
       "      <td>NZdXTfrfCfl9nk4ZvoWT_A</td>\n",
       "      <td>lees-deli-san-francisco-7</td>\n",
       "      <td>Lee's Deli</td>\n",
       "      <td>https://s3-media4.fl.yelpcdn.com/bphoto/JxPMoF...</td>\n",
       "      <td>False</td>\n",
       "      <td>https://www.yelp.com/biz/lees-deli-san-francis...</td>\n",
       "      <td>213</td>\n",
       "      <td>[{'alias': 'sandwiches', 'title': 'Sandwiches'...</td>\n",
       "      <td>3.5</td>\n",
       "      <td>{'latitude': 37.785371, 'longitude': -122.395898}</td>\n",
       "      <td>[delivery, pickup]</td>\n",
       "      <td>$</td>\n",
       "      <td>{'address1': '303 Second St', 'address2': '', ...</td>\n",
       "      <td>+14152847303</td>\n",
       "      <td>(415) 284-7303</td>\n",
       "      <td>2346.939983</td>\n",
       "    </tr>\n",
       "    <tr>\n",
       "      <th>455</th>\n",
       "      <td>5gXTCsfRQjVL1JO4rPVLOw</td>\n",
       "      <td>pizza-by-the-slice-san-francisco</td>\n",
       "      <td>Pizza By The Slice</td>\n",
       "      <td>https://s3-media3.fl.yelpcdn.com/bphoto/qVFeLr...</td>\n",
       "      <td>False</td>\n",
       "      <td>https://www.yelp.com/biz/pizza-by-the-slice-sa...</td>\n",
       "      <td>103</td>\n",
       "      <td>[{'alias': 'gelato', 'title': 'Gelato'}, {'ali...</td>\n",
       "      <td>2.5</td>\n",
       "      <td>{'latitude': 37.787134, 'longitude': -122.410153}</td>\n",
       "      <td>[]</td>\n",
       "      <td>$</td>\n",
       "      <td>{'address1': '444 Geary Blvd', 'address2': '',...</td>\n",
       "      <td></td>\n",
       "      <td></td>\n",
       "      <td>1787.050844</td>\n",
       "    </tr>\n",
       "    <tr>\n",
       "      <th>456</th>\n",
       "      <td>xsG1SSVsm0YdL6-PaoKV_A</td>\n",
       "      <td>111-minna-gallery-san-francisco</td>\n",
       "      <td>111 Minna Gallery</td>\n",
       "      <td>https://s3-media3.fl.yelpcdn.com/bphoto/pTzmdT...</td>\n",
       "      <td>False</td>\n",
       "      <td>https://www.yelp.com/biz/111-minna-gallery-san...</td>\n",
       "      <td>762</td>\n",
       "      <td>[{'alias': 'galleries', 'title': 'Art Gallerie...</td>\n",
       "      <td>3.5</td>\n",
       "      <td>{'latitude': 37.787336818346176, 'longitude': ...</td>\n",
       "      <td>[]</td>\n",
       "      <td>$$</td>\n",
       "      <td>{'address1': '111 Minna St', 'address2': '', '...</td>\n",
       "      <td>+14159741719</td>\n",
       "      <td>(415) 974-1719</td>\n",
       "      <td>1998.743368</td>\n",
       "    </tr>\n",
       "  </tbody>\n",
       "</table>\n",
       "</div>"
      ],
      "text/plain": [
       "                         id                             alias  \\\n",
       "452  TyYg1zXxGgI8X_XOfpclHw  papa-johns-pizza-san-francisco-2   \n",
       "453  xd4HRRVilNNB45Gm974XiA     dominos-pizza-san-francisco-5   \n",
       "454  NZdXTfrfCfl9nk4ZvoWT_A         lees-deli-san-francisco-7   \n",
       "455  5gXTCsfRQjVL1JO4rPVLOw  pizza-by-the-slice-san-francisco   \n",
       "456  xsG1SSVsm0YdL6-PaoKV_A   111-minna-gallery-san-francisco   \n",
       "\n",
       "                   name                                          image_url  \\\n",
       "452    Papa Johns Pizza  https://s3-media3.fl.yelpcdn.com/bphoto/gq2_Of...   \n",
       "453      Domino's Pizza  https://s3-media1.fl.yelpcdn.com/bphoto/CCGa6D...   \n",
       "454          Lee's Deli  https://s3-media4.fl.yelpcdn.com/bphoto/JxPMoF...   \n",
       "455  Pizza By The Slice  https://s3-media3.fl.yelpcdn.com/bphoto/qVFeLr...   \n",
       "456   111 Minna Gallery  https://s3-media3.fl.yelpcdn.com/bphoto/pTzmdT...   \n",
       "\n",
       "     is_closed                                                url  \\\n",
       "452      False  https://www.yelp.com/biz/papa-johns-pizza-san-...   \n",
       "453      False  https://www.yelp.com/biz/dominos-pizza-san-fra...   \n",
       "454      False  https://www.yelp.com/biz/lees-deli-san-francis...   \n",
       "455      False  https://www.yelp.com/biz/pizza-by-the-slice-sa...   \n",
       "456      False  https://www.yelp.com/biz/111-minna-gallery-san...   \n",
       "\n",
       "     review_count                                         categories  rating  \\\n",
       "452           137  [{'alias': 'pizza', 'title': 'Pizza'}, {'alias...     2.5   \n",
       "453           399  [{'alias': 'pizza', 'title': 'Pizza'}, {'alias...     1.5   \n",
       "454           213  [{'alias': 'sandwiches', 'title': 'Sandwiches'...     3.5   \n",
       "455           103  [{'alias': 'gelato', 'title': 'Gelato'}, {'ali...     2.5   \n",
       "456           762  [{'alias': 'galleries', 'title': 'Art Gallerie...     3.5   \n",
       "\n",
       "                                           coordinates        transactions  \\\n",
       "452   {'latitude': 37.78807, 'longitude': -122.416298}  [delivery, pickup]   \n",
       "453  {'latitude': 37.7862196415663, 'longitude': -1...                  []   \n",
       "454  {'latitude': 37.785371, 'longitude': -122.395898}  [delivery, pickup]   \n",
       "455  {'latitude': 37.787134, 'longitude': -122.410153}                  []   \n",
       "456  {'latitude': 37.787336818346176, 'longitude': ...                  []   \n",
       "\n",
       "    price                                           location         phone  \\\n",
       "452     $  {'address1': '969 Sutter St.', 'address2': '',...  +14154407272   \n",
       "453     $  {'address1': '876 Geary St', 'address2': '', '...  +14157760400   \n",
       "454     $  {'address1': '303 Second St', 'address2': '', ...  +14152847303   \n",
       "455     $  {'address1': '444 Geary Blvd', 'address2': '',...                 \n",
       "456    $$  {'address1': '111 Minna St', 'address2': '', '...  +14159741719   \n",
       "\n",
       "      display_phone     distance  \n",
       "452  (415) 440-7272  1759.396186  \n",
       "453  (415) 776-0400  1990.991551  \n",
       "454  (415) 284-7303  2346.939983  \n",
       "455                  1787.050844  \n",
       "456  (415) 974-1719  1998.743368  "
      ]
     },
     "metadata": {},
     "output_type": "display_data"
    }
   ],
   "source": [
    "# load final results\n",
    "final_df = pd.read_json(JSON_FILE)\n",
    "display(final_df.head(), final_df.tail())\n"
   ]
  },
  {
   "cell_type": "code",
   "execution_count": 16,
   "id": "b527a10d",
   "metadata": {},
   "outputs": [
    {
     "data": {
      "text/plain": [
       "0"
      ]
     },
     "execution_count": 16,
     "metadata": {},
     "output_type": "execute_result"
    }
   ],
   "source": [
    "# check for duplicate IDs\n",
    "final_df.duplicated(subset='id').sum()\n",
    "\n"
   ]
  },
  {
   "cell_type": "code",
   "execution_count": 17,
   "id": "fef7613a",
   "metadata": {},
   "outputs": [],
   "source": [
    "# save the final results to a compressed csv\n",
    "final_df.to_csv('Data/final_results_italian.csv.gz', compression='gzip',index=False)\n",
    "\n"
   ]
  },
  {
   "cell_type": "code",
   "execution_count": null,
   "id": "08d0caf3",
   "metadata": {},
   "outputs": [],
   "source": []
  }
 ],
 "metadata": {
  "kernelspec": {
   "display_name": "Python (dojo-env)",
   "language": "python",
   "name": "dojo-env"
  },
  "language_info": {
   "codemirror_mode": {
    "name": "ipython",
    "version": 3
   },
   "file_extension": ".py",
   "mimetype": "text/x-python",
   "name": "python",
   "nbconvert_exporter": "python",
   "pygments_lexer": "ipython3",
   "version": "3.8.13"
  },
  "toc": {
   "base_numbering": 1,
   "nav_menu": {},
   "number_sections": true,
   "sideBar": true,
   "skip_h1_title": false,
   "title_cell": "Table of Contents",
   "title_sidebar": "Contents",
   "toc_cell": false,
   "toc_position": {},
   "toc_section_display": true,
   "toc_window_display": false
  }
 },
 "nbformat": 4,
 "nbformat_minor": 5
}
